{
 "cells": [
  {
   "cell_type": "code",
   "execution_count": 3,
   "metadata": {},
   "outputs": [
    {
     "name": "stdout",
     "output_type": "stream",
     "text": [
      "$0.20 each, or a crazy, crazy $2.64 per dozen!\n",
      "None\n"
     ]
    }
   ],
   "source": [
    "def dodgy_markup(price):\n",
    "    perdozen = price * 12 * 1.1\n",
    "    print(f'${price:03.2f} each, or a crazy, crazy ${perdozen:3.2f} per dozen!')\n",
    "    return\n",
    "\n",
    "print(dodgy_markup(.20))"
   ]
  },
  {
   "cell_type": "code",
   "execution_count": 4,
   "id": "c8323cd6",
   "metadata": {},
   "outputs": [
    {
     "data": {
      "text/plain": [
       "'1          rust bucket car 150000.00'"
      ]
     },
     "execution_count": 4,
     "metadata": {},
     "output_type": "execute_result"
    }
   ],
   "source": [
    "def dodgy_inventorise(item):\n",
    "    return(f'{item[0]:<6.0f}{item[1]:>20.20s}{item[2]:>10.2f}')\n",
    "\n",
    "dodgy_inventorise((1, \"rust bucket car\", 150000))"
   ]
  },
  {
   "cell_type": "code",
   "execution_count": 5,
   "id": "2ea3576b",
   "metadata": {},
   "outputs": [],
   "source": [
    "def check_move(position):\n",
    "    if len(position) != 2:\n",
    "        return(f'The position is not valid.')\n",
    "    elif not str(position[0].upper()) in list(\"ABCDEFGH\"):\n",
    "        return(f'The column value is not in the range a-h or A-H!')\n",
    "    elif not str(position[1]) in list('12345678'):\n",
    "        return(f'The row value is not in the range 1 to 8!')\n",
    "    elif str(position[0].upper()) in list(\"ABCDEFGH\") and str(position[1]) in list('12345678'):\n",
    "        return(f'The piece is moved to {position[0].upper()}{position[1]}.')\n"
   ]
  },
  {
   "cell_type": "code",
   "execution_count": 6,
   "id": "b828dbd7",
   "metadata": {},
   "outputs": [],
   "source": [
    "def check_csc(code):\n",
    "    if len(code) == 3 and code.isnumeric():\n",
    "        return(True)\n",
    "    else:\n",
    "        return(False)\n"
   ]
  },
  {
   "cell_type": "code",
   "execution_count": 7,
   "id": "9665ce68",
   "metadata": {},
   "outputs": [
    {
     "name": "stdout",
     "output_type": "stream",
     "text": [
      "Invalid input\n"
     ]
    }
   ],
   "source": [
    "num = input('Enter the number for \\'num\\': ')\n",
    "N = input('Enter the number for \\'N\\': ')\n",
    "i = 1\n",
    "\n",
    "if num.isdigit() == True and N.isdigit() == True and int(N) > 0 and int(num) > 0:\n",
    "        while i <= int(N):\n",
    "                result = i ** int(num)\n",
    "                print(f'{i} ** {num} = {result}')\n",
    "                i = i + 1\n",
    "else:\n",
    "        print(f'Invalid input')\n"
   ]
  },
  {
   "cell_type": "code",
   "execution_count": 8,
   "id": "eb3837fa",
   "metadata": {},
   "outputs": [],
   "source": [
    "words = input(\"Enter the list of words: \")\n",
    "suffix = input(\"Enter the common suffix: \")\n",
    "\n",
    "for word in words.split():\n",
    "    print(f'{word}{suffix}')\n"
   ]
  },
  {
   "cell_type": "code",
   "execution_count": 9,
   "id": "a9013580",
   "metadata": {},
   "outputs": [],
   "source": [
    "def make_gamertag(tag):\n",
    "    name = \"\"\n",
    "    for i in tag:\n",
    "        name = name + i + \"-\"\n",
    "    return(f'{name}')\n"
   ]
  },
  {
   "cell_type": "code",
   "execution_count": 10,
   "id": "60100bff",
   "metadata": {},
   "outputs": [],
   "source": [
    "def allnum(list):\n",
    "    output = []\n",
    "    for i in list:\n",
    "        if type(i) == int:\n",
    "            output.append(i)\n",
    "    return output\n"
   ]
  },
  {
   "cell_type": "code",
   "execution_count": 11,
   "id": "784f2a3a",
   "metadata": {},
   "outputs": [],
   "source": [
    "# import the `randint` function\n",
    "from random import randint\n",
    "\n",
    "def luck_tester(lucky_number, max_rolls, die_size):\n",
    "    i = 1\n",
    "    while i <= max_rolls:\n",
    "        # simulate the rolling of the die, and check whether it\n",
    "        # is the provided lucky number\n",
    "        if randint(1, die_size) == lucky_number:\n",
    "            return 'Off to Mordor!'\n",
    "        i = i + 1\n",
    "\n",
    "    return 'Back to the Shire!'\n"
   ]
  },
  {
   "cell_type": "code",
   "execution_count": 12,
   "id": "9f1053ed",
   "metadata": {},
   "outputs": [
    {
     "ename": "ValueError",
     "evalue": "invalid literal for int() with base 10: ''",
     "output_type": "error",
     "traceback": [
      "\u001b[0;31m---------------------------------------------------------------------------\u001b[0m",
      "\u001b[0;31mValueError\u001b[0m                                Traceback (most recent call last)",
      "Cell \u001b[0;32mIn[12], line 5\u001b[0m\n\u001b[1;32m      2\u001b[0m a \u001b[38;5;241m=\u001b[39m \u001b[38;5;124m\"\u001b[39m\u001b[38;5;124m*\u001b[39m\u001b[38;5;124m\"\u001b[39m\n\u001b[1;32m      3\u001b[0m i \u001b[38;5;241m=\u001b[39m \u001b[38;5;241m1\u001b[39m\n\u001b[0;32m----> 5\u001b[0m \u001b[38;5;28;01mwhile\u001b[39;00m i \u001b[38;5;241m<\u001b[39m\u001b[38;5;241m=\u001b[39m \u001b[38;5;28;43mint\u001b[39;49m\u001b[43m(\u001b[49m\u001b[43mheight\u001b[49m\u001b[43m)\u001b[49m:\n\u001b[1;32m      6\u001b[0m     \u001b[38;5;28mprint\u001b[39m(\u001b[38;5;124mf\u001b[39m\u001b[38;5;124m'\u001b[39m\u001b[38;5;132;01m{\u001b[39;00ma\u001b[38;5;132;01m}\u001b[39;00m\u001b[38;5;124m'\u001b[39m)\n\u001b[1;32m      7\u001b[0m     a \u001b[38;5;241m=\u001b[39m a \u001b[38;5;241m+\u001b[39m \u001b[38;5;124m\"\u001b[39m\u001b[38;5;124m*\u001b[39m\u001b[38;5;124m\"\u001b[39m\n",
      "\u001b[0;31mValueError\u001b[0m: invalid literal for int() with base 10: ''"
     ]
    }
   ],
   "source": [
    "height = input('Enter height: ')\n",
    "a = \"*\"\n",
    "i = 1\n",
    "\n",
    "while i <= int(height):\n",
    "    print(f'{a}')\n",
    "    a = a + \"*\"\n",
    "    i = i + 1\n"
   ]
  },
  {
   "cell_type": "code",
   "execution_count": null,
   "id": "8369b252",
   "metadata": {},
   "outputs": [],
   "source": [
    "height = input('Enter height: ')\n",
    "a = \"*\"\n",
    "i = 1\n",
    "side = int(height) * a\n",
    "mid = \"\"\n",
    "space = \"  \"\n",
    "\n",
    "while i <= int(height):\n",
    "    print(f'{side}{mid}{side}')\n",
    "    side = (int(height) - i) * a\n",
    "    mid = mid + space\n",
    "    i = i + 1\n",
    "\n",
    "j = int(height) - 1\n",
    "mid = mid.replace('  ', '', 1)\n",
    "\n",
    "while j > 0:\n",
    "    side = (int(height) - j + 1) * a\n",
    "    mid = mid.replace('  ', '', 1)\n",
    "    print(f'{side}{mid}{side}')\n",
    "    j = j - 1\n"
   ]
  },
  {
   "cell_type": "code",
   "execution_count": null,
   "id": "f060c3eb",
   "metadata": {},
   "outputs": [],
   "source": [
    "def validate_card(cardnum):\n",
    "    sum = 0\n",
    "    for i in str(cardnum):\n",
    "        sum = sum + int(i)\n",
    "\n",
    "    if len(cardnum) == 16 and sum % 10 == 0:\n",
    "        return True\n",
    "    else:\n",
    "        return False\n"
   ]
  }
 ],
 "metadata": {
  "kernelspec": {
   "display_name": "py311",
   "language": "python",
   "name": "python3"
  },
  "language_info": {
   "codemirror_mode": {
    "name": "ipython",
    "version": 3
   },
   "file_extension": ".py",
   "mimetype": "text/x-python",
   "name": "python",
   "nbconvert_exporter": "python",
   "pygments_lexer": "ipython3",
   "version": "3.11.6"
  }
 },
 "nbformat": 4,
 "nbformat_minor": 5
}
