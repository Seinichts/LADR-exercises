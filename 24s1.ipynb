{
 "cells": [
  {
   "cell_type": "code",
   "execution_count": 3,
   "metadata": {},
   "outputs": [
    {
     "name": "stdout",
     "output_type": "stream",
     "text": [
      "$0.20 each, or a crazy, crazy $2.64 per dozen!\n",
      "None\n"
     ]
    }
   ],
   "source": [
    "def dodgy_markup(price):\n",
    "    perdozen = price * 12 * 1.1\n",
    "    print(f'${price:03.2f} each, or a crazy, crazy ${perdozen:3.2f} per dozen!')\n",
    "    return\n",
    "\n",
    "print(dodgy_markup(.20))"
   ]
  },
  {
   "cell_type": "markdown",
   "id": "c0387473",
   "metadata": {},
   "source": []
  },
  {
   "cell_type": "code",
   "execution_count": 4,
   "id": "c8323cd6",
   "metadata": {},
   "outputs": [
    {
     "data": {
      "text/plain": [
       "'1          rust bucket car 150000.00'"
      ]
     },
     "execution_count": 4,
     "metadata": {},
     "output_type": "execute_result"
    }
   ],
   "source": [
    "def dodgy_inventorise(item):\n",
    "    return(f'{item[0]:<6.0f}{item[1]:>20.20s}{item[2]:>10.2f}')\n",
    "\n",
    "dodgy_inventorise((1, \"rust bucket car\", 150000))"
   ]
  },
  {
   "cell_type": "code",
   "execution_count": 5,
   "id": "2ea3576b",
   "metadata": {},
   "outputs": [],
   "source": [
    "def check_move(position):\n",
    "    if len(position) != 2:\n",
    "        return(f'The position is not valid.')\n",
    "    elif not str(position[0].upper()) in list(\"ABCDEFGH\"):\n",
    "        return(f'The column value is not in the range a-h or A-H!')\n",
    "    elif not str(position[1]) in list('12345678'):\n",
    "        return(f'The row value is not in the range 1 to 8!')\n",
    "    elif str(position[0].upper()) in list(\"ABCDEFGH\") and str(position[1]) in list('12345678'):\n",
    "        return(f'The piece is moved to {position[0].upper()}{position[1]}.')\n"
   ]
  },
  {
   "cell_type": "code",
   "execution_count": 6,
   "id": "b828dbd7",
   "metadata": {},
   "outputs": [],
   "source": [
    "def check_csc(code):\n",
    "    if len(code) == 3 and code.isnumeric():\n",
    "        return(True)\n",
    "    else:\n",
    "        return(False)\n"
   ]
  },
  {
   "cell_type": "code",
   "execution_count": 7,
   "id": "9665ce68",
   "metadata": {},
   "outputs": [
    {
     "name": "stdout",
     "output_type": "stream",
     "text": [
      "Invalid input\n"
     ]
    }
   ],
   "source": [
    "num = input('Enter the number for \\'num\\': ')\n",
    "N = input('Enter the number for \\'N\\': ')\n",
    "i = 1\n",
    "\n",
    "if num.isdigit() == True and N.isdigit() == True and int(N) > 0 and int(num) > 0:\n",
    "        while i <= int(N):\n",
    "                result = i ** int(num)\n",
    "                print(f'{i} ** {num} = {result}')\n",
    "                i = i + 1\n",
    "else:\n",
    "        print(f'Invalid input')\n"
   ]
  },
  {
   "cell_type": "code",
   "execution_count": 8,
   "id": "eb3837fa",
   "metadata": {},
   "outputs": [],
   "source": [
    "words = input(\"Enter the list of words: \")\n",
    "suffix = input(\"Enter the common suffix: \")\n",
    "\n",
    "for word in words.split():\n",
    "    print(f'{word}{suffix}')\n"
   ]
  },
  {
   "cell_type": "code",
   "execution_count": 9,
   "id": "a9013580",
   "metadata": {},
   "outputs": [],
   "source": [
    "def make_gamertag(tag):\n",
    "    name = \"\"\n",
    "    for i in tag:\n",
    "        name = name + i + \"-\"\n",
    "    return(f'{name}')\n"
   ]
  },
  {
   "cell_type": "code",
   "execution_count": null,
   "id": "14f680a4",
   "metadata": {},
   "outputs": [],
   "source": []
  },
  {
   "cell_type": "code",
   "execution_count": 10,
   "id": "60100bff",
   "metadata": {},
   "outputs": [],
   "source": [
    "def allnum(list):\n",
    "    output = []\n",
    "    for i in list:\n",
    "        if type(i) == int:\n",
    "            output.append(i)\n",
    "    return output\n"
   ]
  },
  {
   "cell_type": "code",
   "execution_count": 11,
   "id": "784f2a3a",
   "metadata": {},
   "outputs": [],
   "source": [
    "# import the `randint` function\n",
    "from random import randint\n",
    "\n",
    "def luck_tester(lucky_number, max_rolls, die_size):\n",
    "    i = 1\n",
    "    while i <= max_rolls:\n",
    "        # simulate the rolling of the die, and check whether it\n",
    "        # is the provided lucky number\n",
    "        if randint(1, die_size) == lucky_number:\n",
    "            return 'Off to Mordor!'\n",
    "        i = i + 1\n",
    "\n",
    "    return 'Back to the Shire!'\n"
   ]
  },
  {
   "cell_type": "code",
   "execution_count": 12,
   "id": "9f1053ed",
   "metadata": {},
   "outputs": [
    {
     "ename": "ValueError",
     "evalue": "invalid literal for int() with base 10: ''",
     "output_type": "error",
     "traceback": [
      "\u001b[0;31m---------------------------------------------------------------------------\u001b[0m",
      "\u001b[0;31mValueError\u001b[0m                                Traceback (most recent call last)",
      "Cell \u001b[0;32mIn[12], line 5\u001b[0m\n\u001b[1;32m      2\u001b[0m a \u001b[38;5;241m=\u001b[39m \u001b[38;5;124m\"\u001b[39m\u001b[38;5;124m*\u001b[39m\u001b[38;5;124m\"\u001b[39m\n\u001b[1;32m      3\u001b[0m i \u001b[38;5;241m=\u001b[39m \u001b[38;5;241m1\u001b[39m\n\u001b[0;32m----> 5\u001b[0m \u001b[38;5;28;01mwhile\u001b[39;00m i \u001b[38;5;241m<\u001b[39m\u001b[38;5;241m=\u001b[39m \u001b[38;5;28;43mint\u001b[39;49m\u001b[43m(\u001b[49m\u001b[43mheight\u001b[49m\u001b[43m)\u001b[49m:\n\u001b[1;32m      6\u001b[0m     \u001b[38;5;28mprint\u001b[39m(\u001b[38;5;124mf\u001b[39m\u001b[38;5;124m'\u001b[39m\u001b[38;5;132;01m{\u001b[39;00ma\u001b[38;5;132;01m}\u001b[39;00m\u001b[38;5;124m'\u001b[39m)\n\u001b[1;32m      7\u001b[0m     a \u001b[38;5;241m=\u001b[39m a \u001b[38;5;241m+\u001b[39m \u001b[38;5;124m\"\u001b[39m\u001b[38;5;124m*\u001b[39m\u001b[38;5;124m\"\u001b[39m\n",
      "\u001b[0;31mValueError\u001b[0m: invalid literal for int() with base 10: ''"
     ]
    }
   ],
   "source": [
    "height = input('Enter height: ')\n",
    "a = \"*\"\n",
    "i = 1\n",
    "\n",
    "while i <= int(height):\n",
    "    print(f'{a}')\n",
    "    a = a + \"*\"\n",
    "    i = i + 1\n"
   ]
  },
  {
   "cell_type": "code",
   "execution_count": null,
   "id": "8369b252",
   "metadata": {},
   "outputs": [],
   "source": [
    "height = input('Enter height: ')\n",
    "a = \"*\"\n",
    "i = 1\n",
    "side = int(height) * a\n",
    "mid = \"\"\n",
    "space = \"  \"\n",
    "\n",
    "while i <= int(height):\n",
    "    print(f'{side}{mid}{side}')\n",
    "    side = (int(height) - i) * a\n",
    "    mid = mid + space\n",
    "    i = i + 1\n",
    "\n",
    "j = int(height) - 1\n",
    "mid = mid.replace('  ', '', 1)\n",
    "\n",
    "while j > 0:\n",
    "    side = (int(height) - j + 1) * a\n",
    "    mid = mid.replace('  ', '', 1)\n",
    "    print(f'{side}{mid}{side}')\n",
    "    j = j - 1\n"
   ]
  },
  {
   "cell_type": "code",
   "execution_count": null,
   "id": "f060c3eb",
   "metadata": {},
   "outputs": [],
   "source": [
    "def validate_card(cardnum):\n",
    "    sum = 0\n",
    "    for i in str(cardnum):\n",
    "        sum = sum + int(i)\n",
    "\n",
    "    if len(cardnum) == 16 and sum % 10 == 0:\n",
    "        return True\n",
    "    else:\n",
    "        return False\n"
   ]
  },
  {
   "cell_type": "code",
   "execution_count": 105,
   "id": "81efcb7d",
   "metadata": {},
   "outputs": [
    {
     "name": "stdout",
     "output_type": "stream",
     "text": [
      "[2, 3, 1]\n"
     ]
    }
   ],
   "source": [
    "\n",
    "def cycle(a_list):\n",
    "    a_list.append(a_list.pop(0))\n",
    "    return a_list\n",
    "my_list = [1,2,3]\n",
    "\n",
    "cycle(my_list)\n",
    "print(my_list)"
   ]
  },
  {
   "cell_type": "code",
   "execution_count": 106,
   "id": "2b12b852",
   "metadata": {},
   "outputs": [],
   "source": [
    "def cycle(a_list):\n",
    "    b_list = a_list.copy()\n",
    "    b_list.append(b_list.pop(0))\n",
    "    return b_list"
   ]
  },
  {
   "cell_type": "code",
   "execution_count": null,
   "id": "dd0b9249",
   "metadata": {},
   "outputs": [],
   "source": [
    "def wordlist(text):\n",
    "    a = []\n",
    "    for i in range(0,len(text.split())):\n",
    "        if text[i].isalnum() == True:\n",
    "            a.append(text[i])\n",
    "        else:\n",
    "            break\n",
    "    return a\n"
   ]
  },
  {
   "cell_type": "code",
   "execution_count": 5,
   "id": "12161106",
   "metadata": {},
   "outputs": [
    {
     "data": {
      "text/plain": [
       "1.5"
      ]
     },
     "execution_count": 5,
     "metadata": {},
     "output_type": "execute_result"
    }
   ],
   "source": [
    "text = \"Call me Ishmael. Some years ago - never mind how long precisely - having little or no money in my purse, and nothing particular to interest me on shore, I thought I would sail about a little and see the watery part of the world. It is a way I have of driving off the spleen and regulating the circulation. Whenever I find myself growing grim about the mouth; whenever it is a damp, drizzly November in my soul; whenever I find myself involuntarily pausing before coffin warehouses, and bringing up the rear of every funeral I meet; and especially whenever my hypos get such an upper hand of me, that it requires a strong moral principle to prevent me from deliberately stepping into the street, and methodically knocking people's hats off - then, I account it high time to get to sea as soon as I can. This is my substitute for pistol and ball. With a philosophical flourish Cato throws himself upon his sword; I quietly take to the ship. There is nothing surprising in this. If they but knew it, almost all men in their degree, some time or other, cherish very nearly the same feelings towards the ocean with me.\"\n",
    "\n",
    "def prevword_ave_len(word):\n",
    "    i = 0\n",
    "    count = 1\n",
    "    sum_length = 0\n",
    "    if word not in text.split():\n",
    "        return -1\n",
    "    elif word == \"Call\":\n",
    "        return 0\n",
    "    else:\n",
    "        for i in range(len(text.split())):\n",
    "            if text.split()[i] == word:\n",
    "                sum_length = sum_length + len(text.split()[i-1])\n",
    "                count = count + 1\n",
    "    output = float(sum_length / count)\n",
    "    return output\n",
    "\n",
    "prevword_ave_len(\"Call\")"
   ]
  },
  {
   "cell_type": "code",
   "execution_count": 2,
   "id": "0d6d6eaa",
   "metadata": {},
   "outputs": [],
   "source": [
    "def middle_words(word_list):\n",
    "    if len(word_list) % 2 == 0:\n",
    "        return [word_list[int(len(word_list) / 2 - 1)], word_list[int(len(word_list) / 2)]]\n",
    "    else:\n",
    "        return [word_list[int(len(word_list) / 2)]]"
   ]
  },
  {
   "cell_type": "code",
   "execution_count": 39,
   "id": "b2ade5d5",
   "metadata": {},
   "outputs": [
    {
     "data": {
      "text/plain": [
       "2"
      ]
     },
     "execution_count": 39,
     "metadata": {},
     "output_type": "execute_result"
    }
   ],
   "source": [
    "text = \" as.as. asd sd.\"\n",
    "\n",
    "def longest_sentence_length(text):\n",
    "    sentence = text.split('.')\n",
    "    length = max(len(sentence.split()) for sentence in text.split('.'))\n",
    "    return length\n",
    "\n",
    "longest_sentence_length(text)"
   ]
  },
  {
   "cell_type": "code",
   "execution_count": 38,
   "id": "44a3dcec",
   "metadata": {},
   "outputs": [
    {
     "data": {
      "text/plain": [
       "3"
      ]
     },
     "execution_count": 38,
     "metadata": {},
     "output_type": "execute_result"
    }
   ],
   "source": [
    "def long_high_word(wordlist):\n",
    "    a = []\n",
    "    for i in wordlist:\n",
    "        if len(i) > len(a):\n",
    "            a = i\n",
    "        elif len(i) == len(a):\n",
    "            if i > a:\n",
    "                a = i\n",
    "        else:\n",
    "            continue\n",
    "    return a\n"
   ]
  },
  {
   "cell_type": "code",
   "execution_count": null,
   "id": "bb824edb",
   "metadata": {},
   "outputs": [],
   "source": [
    "def is_capital(city, state):\n",
    "    capitals = {'Victoria': 'Melbourne',\n",
    "        'New South Wales': 'Sydney',\n",
    "        'Queensland': 'Brisbane',\n",
    "        'Tasmania': 'Hobart',\n",
    "        'South Australia': 'Adelaide',\n",
    "        'Western Australia': 'Perth'}\n",
    "    if city not in capitals:\n",
    "        return False\n",
    "    elif capitals[city] == state:\n",
    "        return True\n",
    "    else:\n",
    "        return False\n",
    "\n"
   ]
  },
  {
   "cell_type": "code",
   "execution_count": 3,
   "id": "d9a855e7",
   "metadata": {},
   "outputs": [
    {
     "name": "stdout",
     "output_type": "stream",
     "text": [
      "{'orange': 3, 'coconut': 3, 'cherry': 4, 'apple': 2, 'pear': 4}\n"
     ]
    }
   ],
   "source": [
    "# The basket of fruit.\n",
    "fruit_basket = ['orange', 'coconut', 'cherry', 'orange', 'coconut', 'apple', 'pear', 'pear', 'cherry', 'cherry', 'pear']\n",
    "fruits_seen = {'orange': 1,\n",
    "              'coconut': 1,\n",
    "              'cherry': 1,\n",
    "              'apple': 1,\n",
    "              'pear': 1}\n",
    "count = 0\n",
    "\n",
    "for fruit in fruit_basket:\n",
    "    if fruit in fruits_seen:\n",
    "        fruits_seen[fruit]+=1\n",
    "    else:\n",
    "        fruits_seen[fruit]=1\n",
    "print(fruits_seen)"
   ]
  },
  {
   "cell_type": "code",
   "execution_count": null,
   "id": "e961da8b",
   "metadata": {},
   "outputs": [],
   "source": [
    "def repeat_word_count(text, n):\n",
    "    dict = {}\n",
    "    list = []\n",
    "    for word in text.split():\n",
    "        if word in dict:\n",
    "            dict[word] += 1\n",
    "        else:\n",
    "            dict[word] = 1\n",
    "\n",
    "    for repeat in dict:\n",
    "        if dict[repeat] >= n:\n",
    "            list.append(repeat)\n",
    "    return sorted(list)"
   ]
  },
  {
   "cell_type": "code",
   "execution_count": null,
   "id": "257170d2",
   "metadata": {},
   "outputs": [],
   "source": [
    "def mode(numlist):\n",
    "    dict = {}\n",
    "    list = []\n",
    "    for num in numlist:\n",
    "        if num in dict:\n",
    "            dict[num] += 1\n",
    "        else :\n",
    "            dict[num] = 1\n",
    "\n",
    "    for mode in dict:\n",
    "        if dict[mode] == max(dict.values()):\n",
    "            list.append(mode)\n",
    "\n",
    "    return sorted(list)"
   ]
  },
  {
   "cell_type": "code",
   "execution_count": null,
   "id": "46eb1b1c",
   "metadata": {},
   "outputs": [],
   "source": [
    "def top5_words(text):\n",
    "    dict = {}\n",
    "    list = []\n",
    "    for word in text.split():\n",
    "        if word in dict:\n",
    "            dict[word] += 1\n",
    "        else:\n",
    "            dict[word] = 1\n",
    "\n",
    "    topword = sorted(dict.items())\n",
    "\n"
   ]
  }
 ],
 "metadata": {
  "kernelspec": {
   "display_name": "py311",
   "language": "python",
   "name": "python3"
  },
  "language_info": {
   "codemirror_mode": {
    "name": "ipython",
    "version": 3
   },
   "file_extension": ".py",
   "mimetype": "text/x-python",
   "name": "python",
   "nbconvert_exporter": "python",
   "pygments_lexer": "ipython3",
   "version": "3.11.8"
  }
 },
 "nbformat": 4,
 "nbformat_minor": 5
}
